{
 "cells": [
  {
   "cell_type": "code",
   "execution_count": 55,
   "metadata": {},
   "outputs": [],
   "source": [
    "import numpy as np\n",
    "import pandas as pd\n",
    "import cv2\n",
    "import PIL\n",
    "pics = {'reset':[cv2.imread(\".\\\\pics\\\\reset.jpg\", 0), [], 1000, 'reset'],\n",
    "        'nan': [cv2.imread('.\\\\pics\\\\blank.jpg',0), [], -1, 'blank'],\n",
    "        'zero':[cv2.imread('.\\\\pics\\\\open0.jpg',0), [], 0, '0'],\n",
    "        'one':[cv2.imread('.\\\\pics\\\\open1.jpg',0), [], 1 , '1'],\n",
    "        'two':[cv2.imread('.\\\\pics\\\\open2.jpg',0), [], 2, '2'],\n",
    "        'three':[cv2.imread('.\\\\pics\\\\open3.jpg',0), [], 3, '3'],\n",
    "        'four':[cv2.imread('.\\\\pics\\\\open4.jpg',0), [], 4, '4'],\n",
    "        'bomb':[cv2.imread('.\\\\pics\\\\bombrevealed.jpg',0),[], -100, 'bomb'],\n",
    "        'bomb':[cv2.imread('.\\\\pics\\\\bombflagged.jpg',0),[], -10, 'bombFlagged']\n",
    "}\n",
    "box = (0,0,550,450)\n"
   ]
  },
  {
   "cell_type": "code",
   "execution_count": 135,
   "metadata": {},
   "outputs": [],
   "source": [
    "\n",
    "cap = PIL.ImageGrab.grab().crop(box)\n",
    "capArray = np.array(cap)\n",
    "capArray_gray = cv2.cvtColor(capArray, cv2.COLOR_BGR2GRAY)\n",
    "###\n",
    "\n",
    "for key in pics:\n",
    "    XYloc = cv2.matchTemplate(capArray_gray, pics[key][0], cv2.TM_CCOEFF_NORMED)\n",
    "    XYtupple = np.where(XYloc >= 0.8)\n",
    "    pics[key][1] = []    \n",
    "    for xy in zip(*XYtupple[::-1]):\n",
    "        pics[key][1].append(xy)\n",
    "\n",
    "        for i in range(-5,5): \n",
    "            for j in range(-5,5):\n",
    "                if pics[key][1].count((xy[0] + i, xy[1]+j))>0 and i!=0 and j!=0:\n",
    "                    pics[key][1].remove(xy)\n",
    "\n",
    "    ### \n",
    "\n"
   ]
  },
  {
   "cell_type": "code",
   "execution_count": 295,
   "metadata": {},
   "outputs": [],
   "source": [
    "XX = [1,2,3,4]"
   ]
  },
  {
   "cell_type": "code",
   "execution_count": 302,
   "metadata": {},
   "outputs": [],
   "source": [
    "XZ = (10, 11,12, 13)"
   ]
  },
  {
   "cell_type": "code",
   "execution_count": 303,
   "metadata": {},
   "outputs": [],
   "source": [
    "XZ = np.array(XZ)"
   ]
  },
  {
   "cell_type": "code",
   "execution_count": 304,
   "metadata": {},
   "outputs": [
    {
     "data": {
      "text/plain": [
       "10"
      ]
     },
     "execution_count": 304,
     "metadata": {},
     "output_type": "execute_result"
    }
   ],
   "source": [
    "XZ.min()"
   ]
  },
  {
   "cell_type": "code",
   "execution_count": 307,
   "metadata": {},
   "outputs": [],
   "source": [
    "from shapely import geometry"
   ]
  },
  {
   "cell_type": "code",
   "execution_count": 315,
   "metadata": {},
   "outputs": [
    {
     "data": {
      "image/svg+xml": [
       "<svg xmlns=\"http://www.w3.org/2000/svg\" xmlns:xlink=\"http://www.w3.org/1999/xlink\" width=\"100.0\" height=\"100.0\" viewBox=\"-0.04 -0.04 1.08 1.08\" preserveAspectRatio=\"xMinYMin meet\"><g transform=\"matrix(1,0,0,-1,0,1.0)\"><path fill-rule=\"evenodd\" fill=\"#66cc99\" stroke=\"#555555\" stroke-width=\"0.0216\" opacity=\"0.6\" d=\"M 0.0,0.0 L 1.0,0.0 L 1.0,1.0 L 0.0,1.0 L 0.0,0.0 z\" /></g></svg>"
      ],
      "text/plain": [
       "<shapely.geometry.polygon.Polygon at 0x221b05caa58>"
      ]
     },
     "execution_count": 315,
     "metadata": {},
     "output_type": "execute_result"
    }
   ],
   "source": [
    "geometry.Polygon([(0,0), (1,0), (1,1), (0,1)])"
   ]
  },
  {
   "cell_type": "code",
   "execution_count": 316,
   "metadata": {},
   "outputs": [],
   "source": [
    "i, j = 1,0"
   ]
  },
  {
   "cell_type": "code",
   "execution_count": 332,
   "metadata": {},
   "outputs": [
    {
     "data": {
      "text/plain": [
       "True"
      ]
     },
     "execution_count": 332,
     "metadata": {},
     "output_type": "execute_result"
    }
   ],
   "source": [
    "(abs(i)+abs(j))!=0"
   ]
  },
  {
   "cell_type": "code",
   "execution_count": 324,
   "metadata": {},
   "outputs": [
    {
     "data": {
      "text/plain": [
       "0"
      ]
     },
     "execution_count": 324,
     "metadata": {},
     "output_type": "execute_result"
    }
   ],
   "source": [
    "j"
   ]
  },
  {
   "cell_type": "code",
   "execution_count": null,
   "metadata": {},
   "outputs": [],
   "source": []
  }
 ],
 "metadata": {
  "kernelspec": {
   "display_name": "Python 3",
   "language": "python",
   "name": "python3"
  },
  "language_info": {
   "codemirror_mode": {
    "name": "ipython",
    "version": 3
   },
   "file_extension": ".py",
   "mimetype": "text/x-python",
   "name": "python",
   "nbconvert_exporter": "python",
   "pygments_lexer": "ipython3",
   "version": "3.6.5"
  }
 },
 "nbformat": 4,
 "nbformat_minor": 2
}
