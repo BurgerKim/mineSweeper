{
 "cells": [
  {
   "cell_type": "code",
   "execution_count": 55,
   "metadata": {},
   "outputs": [],
   "source": [
    "import numpy as np\n",
    "import pandas as pd\n",
    "import cv2\n",
    "import PIL\n",
    "pics = {'reset':[cv2.imread(\".\\\\pics\\\\reset.jpg\", 0), [], 1000, 'reset'],\n",
    "        'nan': [cv2.imread('.\\\\pics\\\\blank.jpg',0), [], -1, 'blank'],\n",
    "        'zero':[cv2.imread('.\\\\pics\\\\open0.jpg',0), [], 0, '0'],\n",
    "        'one':[cv2.imread('.\\\\pics\\\\open1.jpg',0), [], 1 , '1'],\n",
    "        'two':[cv2.imread('.\\\\pics\\\\open2.jpg',0), [], 2, '2'],\n",
    "        'three':[cv2.imread('.\\\\pics\\\\open3.jpg',0), [], 3, '3'],\n",
    "        'four':[cv2.imread('.\\\\pics\\\\open4.jpg',0), [], 4, '4'],\n",
    "        'bomb':[cv2.imread('.\\\\pics\\\\bombrevealed.jpg',0),[], -100, 'bomb'],\n",
    "        'bomb':[cv2.imread('.\\\\pics\\\\bombflagged.jpg',0),[], -10, 'bombFlagged']\n",
    "}\n",
    "box = (0,0,550,450)\n"
   ]
  },
  {
   "cell_type": "code",
   "execution_count": 135,
   "metadata": {},
   "outputs": [],
   "source": [
    "\n",
    "cap = PIL.ImageGrab.grab().crop(box)\n",
    "capArray = np.array(cap)\n",
    "capArray_gray = cv2.cvtColor(capArray, cv2.COLOR_BGR2GRAY)\n",
    "###\n",
    "\n",
    "for key in pics:\n",
    "    XYloc = cv2.matchTemplate(capArray_gray, pics[key][0], cv2.TM_CCOEFF_NORMED)\n",
    "    XYtupple = np.where(XYloc >= 0.8)\n",
    "    pics[key][1] = []    \n",
    "    for xy in zip(*XYtupple[::-1]):\n",
    "        pics[key][1].append(xy)\n",
    "\n",
    "        for i in range(-5,5): \n",
    "            for j in range(-5,5):\n",
    "                if pics[key][1].count((xy[0] + i, xy[1]+j))>0 and i!=0 and j!=0:\n",
    "                    pics[key][1].remove(xy)\n",
    "\n",
    "    ### \n",
    "\n"
   ]
  },
  {
   "cell_type": "code",
   "execution_count": 282,
   "metadata": {},
   "outputs": [],
   "source": [
    "XX = [1,2,3,4]"
   ]
  },
  {
   "cell_type": "code",
   "execution_count": 283,
   "metadata": {},
   "outputs": [],
   "source": [
    "XZ = [10, 11,12]"
   ]
  },
  {
   "cell_type": "code",
   "execution_count": 285,
   "metadata": {},
   "outputs": [
    {
     "ename": "TypeError",
     "evalue": "zip argument #1 must support iteration",
     "output_type": "error",
     "traceback": [
      "\u001b[1;31m---------------------------------------------------------------------------\u001b[0m",
      "\u001b[1;31mTypeError\u001b[0m                                 Traceback (most recent call last)",
      "\u001b[1;32m<ipython-input-285-752826aa4166>\u001b[0m in \u001b[0;36m<module>\u001b[1;34m()\u001b[0m\n\u001b[1;32m----> 1\u001b[1;33m \u001b[1;32mfor\u001b[0m \u001b[0mi\u001b[0m \u001b[1;32min\u001b[0m \u001b[0mzip\u001b[0m\u001b[1;33m(\u001b[0m\u001b[1;33m*\u001b[0m\u001b[0mXZ\u001b[0m\u001b[1;33m,\u001b[0m\u001b[0mXX\u001b[0m\u001b[1;33m)\u001b[0m\u001b[1;33m:\u001b[0m\u001b[1;33m\u001b[0m\u001b[0m\n\u001b[0m\u001b[0;32m      2\u001b[0m     \u001b[0mprint\u001b[0m\u001b[1;33m(\u001b[0m\u001b[0mi\u001b[0m\u001b[1;33m)\u001b[0m\u001b[1;33m\u001b[0m\u001b[0m\n",
      "\u001b[1;31mTypeError\u001b[0m: zip argument #1 must support iteration"
     ]
    }
   ],
   "source": [
    "for i in zip(XZ,XX):\n",
    "    print(i)"
   ]
  },
  {
   "cell_type": "code",
   "execution_count": null,
   "metadata": {},
   "outputs": [],
   "source": []
  }
 ],
 "metadata": {
  "kernelspec": {
   "display_name": "Python 3",
   "language": "python",
   "name": "python3"
  },
  "language_info": {
   "codemirror_mode": {
    "name": "ipython",
    "version": 3
   },
   "file_extension": ".py",
   "mimetype": "text/x-python",
   "name": "python",
   "nbconvert_exporter": "python",
   "pygments_lexer": "ipython3",
   "version": "3.6.5"
  }
 },
 "nbformat": 4,
 "nbformat_minor": 2
}
